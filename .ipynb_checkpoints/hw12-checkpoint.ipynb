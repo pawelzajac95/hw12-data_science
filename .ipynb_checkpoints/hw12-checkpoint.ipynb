{
 "cells": [
  {
   "cell_type": "code",
   "execution_count": 1,
   "metadata": {
    "vscode": {
     "languageId": "plaintext"
    }
   },
   "outputs": [],
   "source": [
    "#  Importing Necessary Libraries\n",
    "import spacy\n",
    "from nltk.corpus import stopwords\n",
    "import heapq"
   ]
  },
  {
   "cell_type": "code",
   "execution_count": 2,
   "metadata": {
    "vscode": {
     "languageId": "plaintext"
    }
   },
   "outputs": [],
   "source": [
    "# Load the SpaCy model for English\n",
    "nlp = spacy.load('en_core_web_sm')"
   ]
  },
  {
   "cell_type": "code",
   "execution_count": 3,
   "metadata": {
    "vscode": {
     "languageId": "plaintext"
    }
   },
   "outputs": [],
   "source": [
    "# Example text\n",
    "text = \"\"\"\n",
    "The Orbiter Discovery, OV-103, is considered eligible for listing in the National Register of Historic Places \n",
    "(NRHP) in the context of the U.S. Space Shuttle Program (1969-2011) under Criterion A in the areas of Space \n",
    "Exploration and Transportation and under Criterion C in the area of Engineering. Because it has achieved significance \n",
    "within the past fifty years, Criteria Consideration G applies. Under Criterion A, Discovery is significant as the oldest \n",
    "of the three extant orbiter vehicles constructed for the Space Shuttle Program (SSP), the longest running American \n",
    "space program to date; she was the third of five orbiters built by NASA. Unlike the Mercury, Gemini, and Apollo \n",
    "programs, the SSP’s emphasis was on cost effectiveness and reusability, and eventually the construction of a space station. \n",
    "Including her maiden voyage (launched August 30, 1984), Discovery flew to space thirty-nine times, more than any of the other \n",
    "four orbiters; she was also the first orbiter to fly twenty missions. She had the honor of being chosen as the Return to Flight \n",
    "vehicle after both the Challenger and Columbia accidents. Discovery was the first shuttle to fly with the redesigned SRBs, a result \n",
    "of the Challenger accident, and the first shuttle to fly with the Phase II and Block I SSME. Discovery also carried the Hubble Space \n",
    "Telescope to orbit and performed two of the five servicing missions to the observatory. She flew the first and last dedicated \n",
    "Department of Defense (DoD) missions, as well as the first unclassified defense-related mission. In addition, Discovery was vital to \n",
    "the construction of the International Space Station (ISS); she flew thirteen of the thirty-seven total missions flown to the station \n",
    "by a U.S. Space Shuttle. She was the first orbiter to dock to the ISS, and the first to perform an exchange of a resident crew. Under \n",
    "Criterion C, Discovery is significant as a feat of engineering. According to Wayne Hale, a flight director from Johnson Space Center, \n",
    "the Space Shuttle orbiter represents a “huge technological leap from expendable rockets and capsules to a reusable, winged, hypersonic, \n",
    "cargo-carrying spacecraft.” Although her base structure followed a conventional aircraft design, she used advanced materials that both \n",
    "minimized her weight for cargo-carrying purposes and featured low thermal expansion ratios, which provided a stable base for her Thermal \n",
    "Protection System (TPS) materials. The Space Shuttle orbiter also featured the first reusable TPS; all previous spaceflight vehicles had \n",
    "a single-use, ablative heat shield. Other notable engineering achievements of the orbiter included the first reusable orbital propulsion system, \n",
    "and the first two-fault-tolerant Integrated Avionics System. As Hale stated, the Space Shuttle remains “the largest, fastest, winged hypersonic aircraft \n",
    "in history,” having regularly flown at twenty-five times the speed of sound.\n",
    "\"\"\"\n",
    "\n",
    "# Process the text with SpaCy\n",
    "doc = nlp(text)"
   ]
  },
  {
   "cell_type": "code",
   "execution_count": 4,
   "metadata": {
    "vscode": {
     "languageId": "plaintext"
    }
   },
   "outputs": [
    {
     "name": "stdout",
     "output_type": "stream",
     "text": [
      "Filtered Words: ['Orbiter', 'Discovery', 'considered', 'eligible', 'listing', 'National', 'Register', 'Historic', 'Places', 'NRHP', 'context', 'Space', 'Shuttle', 'Program', 'Criterion', 'areas', 'Space', 'Exploration', 'Transportation', 'Criterion', 'C', 'area', 'Engineering', 'achieved', 'significance', 'within', 'past', 'fifty', 'years', 'Criteria', 'Consideration', 'G', 'applies', 'Criterion', 'Discovery', 'significant', 'oldest', 'three', 'extant', 'orbiter', 'vehicles', 'constructed', 'Space', 'Shuttle', 'Program', 'SSP', 'longest', 'running', 'American', 'space', 'program', 'date', 'third', 'five', 'orbiters', 'built', 'NASA', 'Unlike', 'Mercury', 'Gemini', 'Apollo', 'programs', 'SSP', 'emphasis', 'cost', 'effectiveness', 'reusability', 'eventually', 'construction', 'space', 'station', 'Including', 'maiden', 'voyage', 'launched', 'August', 'Discovery', 'flew', 'space', 'thirty', 'nine', 'times', 'four', 'orbiters', 'also', 'first', 'orbiter', 'fly', 'twenty', 'missions', 'honor', 'chosen', 'Return', 'Flight', 'vehicle', 'Challenger', 'Columbia', 'accidents', 'Discovery', 'first', 'shuttle', 'fly', 'redesigned', 'SRBs', 'result', 'Challenger', 'accident', 'first', 'shuttle', 'fly', 'Phase', 'II', 'Block', 'SSME', 'Discovery', 'also', 'carried', 'Hubble', 'Space', 'Telescope', 'orbit', 'performed', 'two', 'five', 'servicing', 'missions', 'observatory', 'flew', 'first', 'last', 'dedicated', 'Department', 'Defense', 'DoD', 'missions', 'well', 'first', 'unclassified', 'defense', 'related', 'mission', 'addition', 'Discovery', 'vital', 'construction', 'International', 'Space', 'Station', 'ISS', 'flew', 'thirteen', 'thirty', 'seven', 'total', 'missions', 'flown', 'station', 'Space', 'Shuttle', 'first', 'orbiter', 'dock', 'ISS', 'first', 'perform', 'exchange', 'resident', 'crew', 'Criterion', 'C', 'Discovery', 'significant', 'feat', 'engineering', 'According', 'Wayne', 'Hale', 'flight', 'director', 'Johnson', 'Space', 'Center', 'Space', 'Shuttle', 'orbiter', 'represents', 'huge', 'technological', 'leap', 'expendable', 'rockets', 'capsules', 'reusable', 'winged', 'hypersonic', 'cargo', 'carrying', 'spacecraft', 'Although', 'base', 'structure', 'followed', 'conventional', 'aircraft', 'design', 'used', 'advanced', 'materials', 'minimized', 'weight', 'cargo', 'carrying', 'purposes', 'featured', 'low', 'thermal', 'expansion', 'ratios', 'provided', 'stable', 'base', 'Thermal', 'Protection', 'System', 'TPS', 'materials', 'Space', 'Shuttle', 'orbiter', 'also', 'featured', 'first', 'reusable', 'TPS', 'previous', 'spaceflight', 'vehicles', 'single', 'use', 'ablative', 'heat', 'shield', 'notable', 'engineering', 'achievements', 'orbiter', 'included', 'first', 'reusable', 'orbital', 'propulsion', 'system', 'first', 'two', 'fault', 'tolerant', 'Integrated', 'Avionics', 'System', 'Hale', 'stated', 'Space', 'Shuttle', 'remains', 'largest', 'fastest', 'winged', 'hypersonic', 'aircraft', 'history', 'regularly', 'flown', 'twenty', 'five', 'times', 'speed', 'sound']\n"
     ]
    },
    {
     "name": "stderr",
     "output_type": "stream",
     "text": [
      "[nltk_data] Downloading package punkt to\n",
      "[nltk_data]     C:\\Users\\pawel\\AppData\\Roaming\\nltk_data...\n",
      "[nltk_data]   Package punkt is already up-to-date!\n",
      "[nltk_data] Downloading package stopwords to\n",
      "[nltk_data]     C:\\Users\\pawel\\AppData\\Roaming\\nltk_data...\n",
      "[nltk_data]   Package stopwords is already up-to-date!\n"
     ]
    }
   ],
   "source": [
    "import nltk\n",
    "import ssl\n",
    "\n",
    "try:\n",
    "    _create_unverified_https_context = ssl._create_unverified_context\n",
    "except AttributeError:\n",
    "    pass\n",
    "else:\n",
    "    ssl._create_default_https_context = _create_unverified_https_context\n",
    "\n",
    "nltk.download('punkt')\n",
    "nltk.download('stopwords')\n",
    "\n",
    "# Tokenize the text and remove stopwords\n",
    "stop_words = set(stopwords.words('english'))\n",
    "filtered_tokens = [token.text for token in doc if token.is_alpha and token.text.lower() not in stop_words]\n",
    "\n",
    "# Print tokenized words\n",
    "print(\"Filtered Words:\", filtered_tokens)"
   ]
  },
  {
   "cell_type": "code",
   "execution_count": 5,
   "metadata": {
    "vscode": {
     "languageId": "plaintext"
    }
   },
   "outputs": [
    {
     "name": "stdout",
     "output_type": "stream",
     "text": [
      "Sentences: ['\\nThe Orbiter Discovery, OV-103, is considered eligible for listing in the National Register of Historic Places \\n(NRHP) in the context of the U.S. Space Shuttle Program (1969-2011) under Criterion A in the areas of Space \\nExploration and Transportation and under Criterion C in the area of Engineering.', 'Because it has achieved significance \\nwithin the past fifty years, Criteria Consideration G applies.', 'Under Criterion A, Discovery is significant as the oldest \\nof the three extant orbiter vehicles constructed for the Space Shuttle Program (SSP), the longest running American \\nspace program to date; she was the third of five orbiters built by NASA.', 'Unlike the Mercury, Gemini, and Apollo \\nprograms, the SSP’s emphasis was on cost effectiveness and reusability, and eventually the construction of a space station. \\n', 'Including her maiden voyage (launched August 30, 1984), Discovery flew to space thirty-nine times, more than any of the other \\nfour orbiters; she was also the first orbiter to fly twenty missions.', 'She had the honor of being chosen as the Return to Flight \\nvehicle after both the Challenger and Columbia accidents.', 'Discovery was the first shuttle to fly with the redesigned SRBs, a result \\nof the Challenger accident, and the first shuttle to fly with the Phase II and Block I SSME.', 'Discovery also carried the Hubble Space \\nTelescope to orbit and performed two of the five servicing missions to the observatory.', 'She flew the first and last dedicated \\nDepartment of Defense (DoD) missions, as well as the first unclassified defense-related mission.', 'In addition, Discovery was vital to \\nthe construction of the International Space Station (ISS); she flew thirteen of the thirty-seven total missions flown to the station \\nby a U.S. Space Shuttle.', 'She was the first orbiter to dock to the ISS, and the first to perform an exchange of a resident crew.', 'Under \\nCriterion C, Discovery is significant as a feat of engineering.', 'According to Wayne Hale, a flight director from Johnson Space Center, \\nthe Space Shuttle orbiter represents a “huge technological leap from expendable rockets and capsules to a reusable, winged, hypersonic, \\ncargo-carrying spacecraft.”', 'Although her base structure followed a conventional aircraft design, she used advanced materials that both \\nminimized her weight for cargo-carrying purposes and featured low thermal expansion ratios, which provided a stable base for her Thermal \\nProtection System (TPS) materials.', 'The Space Shuttle orbiter also featured the first reusable TPS; all previous spaceflight vehicles had \\na single-use, ablative heat shield.', 'Other notable engineering achievements of the orbiter included the first reusable orbital propulsion system, \\nand the first two-fault-tolerant Integrated Avionics System.', 'As Hale stated, the Space Shuttle remains “the largest, fastest, winged hypersonic aircraft \\nin history,” having regularly flown at twenty-five times the speed of sound.\\n']\n"
     ]
    }
   ],
   "source": [
    "# Split the text into sentences using SpaCy\n",
    "sentences = [sent.text for sent in doc.sents]\n",
    "print(\"Sentences:\", sentences)"
   ]
  },
  {
   "cell_type": "code",
   "execution_count": 6,
   "metadata": {
    "vscode": {
     "languageId": "plaintext"
    }
   },
   "outputs": [],
   "source": [
    "# Example of scoring sentences (for summarization)\n",
    "sentence_scores = {}\n",
    "for sent in doc.sents:\n",
    "    for word in sent:\n",
    "        if word.text.lower() in filtered_tokens:\n",
    "            if sent not in sentence_scores:\n",
    "                sentence_scores[sent] = 1\n",
    "            else:\n",
    "                sentence_scores[sent] += 1"
   ]
  },
  {
   "cell_type": "code",
   "execution_count": 7,
   "metadata": {
    "vscode": {
     "languageId": "plaintext"
    }
   },
   "outputs": [],
   "source": [
    "# Get the top 3 sentences as the summary\n",
    "summary_sentences = heapq.nlargest(3, sentence_scores, key=sentence_scores.get)\n",
    "summary = ' '.join([sent.text for sent in summary_sentences])"
   ]
  },
  {
   "cell_type": "code",
   "execution_count": 8,
   "metadata": {
    "vscode": {
     "languageId": "plaintext"
    }
   },
   "outputs": [
    {
     "name": "stdout",
     "output_type": "stream",
     "text": [
      "\n",
      "Summary:\n",
      "Although her base structure followed a conventional aircraft design, she used advanced materials that both \n",
      "minimized her weight for cargo-carrying purposes and featured low thermal expansion ratios, which provided a stable base for her Thermal \n",
      "Protection System (TPS) materials. Under Criterion A, Discovery is significant as the oldest \n",
      "of the three extant orbiter vehicles constructed for the Space Shuttle Program (SSP), the longest running American \n",
      "space program to date; she was the third of five orbiters built by NASA. According to Wayne Hale, a flight director from Johnson Space Center, \n",
      "the Space Shuttle orbiter represents a “huge technological leap from expendable rockets and capsules to a reusable, winged, hypersonic, \n",
      "cargo-carrying spacecraft.”\n"
     ]
    }
   ],
   "source": [
    "# Output the summary\n",
    "print(\"\\nSummary:\")\n",
    "print(summary)"
   ]
  },
  {
   "cell_type": "code",
   "execution_count": null,
   "metadata": {},
   "outputs": [],
   "source": []
  }
 ],
 "metadata": {
  "kernelspec": {
   "display_name": "Python 3 (ipykernel)",
   "language": "python",
   "name": "python3"
  },
  "language_info": {
   "codemirror_mode": {
    "name": "ipython",
    "version": 3
   },
   "file_extension": ".py",
   "mimetype": "text/x-python",
   "name": "python",
   "nbconvert_exporter": "python",
   "pygments_lexer": "ipython3",
   "version": "3.11.5"
  }
 },
 "nbformat": 4,
 "nbformat_minor": 2
}
